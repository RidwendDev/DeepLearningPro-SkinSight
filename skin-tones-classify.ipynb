{
 "cells": [
  {
   "cell_type": "code",
   "execution_count": 1,
   "id": "cf232de9",
   "metadata": {
    "execution": {
     "iopub.execute_input": "2023-06-04T04:20:54.312036Z",
     "iopub.status.busy": "2023-06-04T04:20:54.311140Z",
     "iopub.status.idle": "2023-06-04T04:20:59.550247Z",
     "shell.execute_reply": "2023-06-04T04:20:59.551241Z",
     "shell.execute_reply.started": "2023-06-04T03:34:17.104660Z"
    },
    "papermill": {
     "duration": 5.349901,
     "end_time": "2023-06-04T04:20:59.551643",
     "exception": false,
     "start_time": "2023-06-04T04:20:54.201742",
     "status": "completed"
    },
    "tags": []
   },
   "outputs": [],
   "source": [
    "import numpy as np\n",
    "import pandas as pd\n",
    "import os\n",
    "import matplotlib.pyplot as plt\n",
    "import tensorflow as tf\n",
    "import cv2\n",
    "from tensorflow.keras.utils import to_categorical\n",
    "from tensorflow.keras.preprocessing.image import load_img, img_to_array\n",
    "from tensorflow.python.keras.preprocessing.image import ImageDataGenerator\n",
    "from sklearn.metrics import classification_report, log_loss, accuracy_score\n",
    "from sklearn.model_selection import train_test_split\n",
    "from tqdm import tqdm\n",
    "import random"
   ]
  },
  {
   "cell_type": "code",
   "execution_count": 2,
   "id": "aa46dae8",
   "metadata": {
    "execution": {
     "iopub.execute_input": "2023-06-04T04:20:59.623188Z",
     "iopub.status.busy": "2023-06-04T04:20:59.621147Z",
     "iopub.status.idle": "2023-06-04T04:20:59.624050Z",
     "shell.execute_reply": "2023-06-04T04:20:59.624685Z",
     "shell.execute_reply.started": "2023-06-04T03:34:22.859093Z"
    },
    "papermill": {
     "duration": 0.040358,
     "end_time": "2023-06-04T04:20:59.624871",
     "exception": false,
     "start_time": "2023-06-04T04:20:59.584513",
     "status": "completed"
    },
    "tags": []
   },
   "outputs": [],
   "source": [
    "train_dir = '../input/fitzpatrick-classification-by-ethnicity/fairface/fairface/train'\n",
    "test_dir = '../input/fitzpatrick-classification-by-ethnicity/fairface/fairface/val'"
   ]
  },
  {
   "cell_type": "code",
   "execution_count": 3,
   "id": "e63d2763",
   "metadata": {
    "execution": {
     "iopub.execute_input": "2023-06-04T04:20:59.701431Z",
     "iopub.status.busy": "2023-06-04T04:20:59.700071Z",
     "iopub.status.idle": "2023-06-04T04:20:59.813470Z",
     "shell.execute_reply": "2023-06-04T04:20:59.814097Z",
     "shell.execute_reply.started": "2023-06-04T03:34:22.866405Z"
    },
    "papermill": {
     "duration": 0.1572,
     "end_time": "2023-06-04T04:20:59.814314",
     "exception": false,
     "start_time": "2023-06-04T04:20:59.657114",
     "status": "completed"
    },
    "tags": []
   },
   "outputs": [
    {
     "data": {
      "text/html": [
       "<div>\n",
       "<style scoped>\n",
       "    .dataframe tbody tr th:only-of-type {\n",
       "        vertical-align: middle;\n",
       "    }\n",
       "\n",
       "    .dataframe tbody tr th {\n",
       "        vertical-align: top;\n",
       "    }\n",
       "\n",
       "    .dataframe thead th {\n",
       "        text-align: right;\n",
       "    }\n",
       "</style>\n",
       "<table border=\"1\" class=\"dataframe\">\n",
       "  <thead>\n",
       "    <tr style=\"text-align: right;\">\n",
       "      <th></th>\n",
       "      <th>file</th>\n",
       "      <th>age</th>\n",
       "      <th>gender</th>\n",
       "      <th>race</th>\n",
       "      <th>phototype</th>\n",
       "    </tr>\n",
       "  </thead>\n",
       "  <tbody>\n",
       "    <tr>\n",
       "      <th>0</th>\n",
       "      <td>1.jpg</td>\n",
       "      <td>50-59</td>\n",
       "      <td>Male</td>\n",
       "      <td>East Asian</td>\n",
       "      <td>III</td>\n",
       "    </tr>\n",
       "    <tr>\n",
       "      <th>1</th>\n",
       "      <td>10.jpg</td>\n",
       "      <td>30-39</td>\n",
       "      <td>Male</td>\n",
       "      <td>Middle Eastern</td>\n",
       "      <td>V</td>\n",
       "    </tr>\n",
       "    <tr>\n",
       "      <th>2</th>\n",
       "      <td>100.jpg</td>\n",
       "      <td>20-29</td>\n",
       "      <td>Female</td>\n",
       "      <td>East Asian</td>\n",
       "      <td>III</td>\n",
       "    </tr>\n",
       "    <tr>\n",
       "      <th>3</th>\n",
       "      <td>1000.jpg</td>\n",
       "      <td>30-39</td>\n",
       "      <td>Male</td>\n",
       "      <td>White</td>\n",
       "      <td>I &amp; II</td>\n",
       "    </tr>\n",
       "    <tr>\n",
       "      <th>4</th>\n",
       "      <td>10004.jpg</td>\n",
       "      <td>40-49</td>\n",
       "      <td>Male</td>\n",
       "      <td>Indian</td>\n",
       "      <td>V</td>\n",
       "    </tr>\n",
       "    <tr>\n",
       "      <th>...</th>\n",
       "      <td>...</td>\n",
       "      <td>...</td>\n",
       "      <td>...</td>\n",
       "      <td>...</td>\n",
       "      <td>...</td>\n",
       "    </tr>\n",
       "    <tr>\n",
       "      <th>35425</th>\n",
       "      <td>9659.jpg</td>\n",
       "      <td>30-39</td>\n",
       "      <td>Female</td>\n",
       "      <td>Black</td>\n",
       "      <td>VI</td>\n",
       "    </tr>\n",
       "    <tr>\n",
       "      <th>35426</th>\n",
       "      <td>967.jpg</td>\n",
       "      <td>40-49</td>\n",
       "      <td>Female</td>\n",
       "      <td>Black</td>\n",
       "      <td>VI</td>\n",
       "    </tr>\n",
       "    <tr>\n",
       "      <th>35427</th>\n",
       "      <td>9676.jpg</td>\n",
       "      <td>30-39</td>\n",
       "      <td>Female</td>\n",
       "      <td>Black</td>\n",
       "      <td>VI</td>\n",
       "    </tr>\n",
       "    <tr>\n",
       "      <th>35428</th>\n",
       "      <td>9703.jpg</td>\n",
       "      <td>20-29</td>\n",
       "      <td>Female</td>\n",
       "      <td>Black</td>\n",
       "      <td>VI</td>\n",
       "    </tr>\n",
       "    <tr>\n",
       "      <th>35429</th>\n",
       "      <td>974.jpg</td>\n",
       "      <td>30-39</td>\n",
       "      <td>Female</td>\n",
       "      <td>Black</td>\n",
       "      <td>VI</td>\n",
       "    </tr>\n",
       "  </tbody>\n",
       "</table>\n",
       "<p>35430 rows × 5 columns</p>\n",
       "</div>"
      ],
      "text/plain": [
       "            file    age  gender            race phototype\n",
       "0          1.jpg  50-59    Male      East Asian       III\n",
       "1         10.jpg  30-39    Male  Middle Eastern         V\n",
       "2        100.jpg  20-29  Female      East Asian       III\n",
       "3       1000.jpg  30-39    Male           White    I & II\n",
       "4      10004.jpg  40-49    Male          Indian         V\n",
       "...          ...    ...     ...             ...       ...\n",
       "35425   9659.jpg  30-39  Female           Black        VI\n",
       "35426    967.jpg  40-49  Female           Black        VI\n",
       "35427   9676.jpg  30-39  Female           Black        VI\n",
       "35428   9703.jpg  20-29  Female           Black        VI\n",
       "35429    974.jpg  30-39  Female           Black        VI\n",
       "\n",
       "[35430 rows x 5 columns]"
      ]
     },
     "execution_count": 3,
     "metadata": {},
     "output_type": "execute_result"
    }
   ],
   "source": [
    "trainfinal=pd.read_csv('../input/fitzpatrick-classification-by-ethnicity/fitz_undersampled_train_final.csv')\n",
    "trainfinal"
   ]
  },
  {
   "cell_type": "code",
   "execution_count": 4,
   "id": "ac6a347b",
   "metadata": {
    "execution": {
     "iopub.execute_input": "2023-06-04T04:20:59.896126Z",
     "iopub.status.busy": "2023-06-04T04:20:59.888436Z",
     "iopub.status.idle": "2023-06-04T04:20:59.919071Z",
     "shell.execute_reply": "2023-06-04T04:20:59.920101Z",
     "shell.execute_reply.started": "2023-06-04T03:34:22.967805Z"
    },
    "papermill": {
     "duration": 0.07158,
     "end_time": "2023-06-04T04:20:59.920296",
     "exception": false,
     "start_time": "2023-06-04T04:20:59.848716",
     "status": "completed"
    },
    "tags": []
   },
   "outputs": [
    {
     "data": {
      "text/html": [
       "<div>\n",
       "<style scoped>\n",
       "    .dataframe tbody tr th:only-of-type {\n",
       "        vertical-align: middle;\n",
       "    }\n",
       "\n",
       "    .dataframe tbody tr th {\n",
       "        vertical-align: top;\n",
       "    }\n",
       "\n",
       "    .dataframe thead th {\n",
       "        text-align: right;\n",
       "    }\n",
       "</style>\n",
       "<table border=\"1\" class=\"dataframe\">\n",
       "  <thead>\n",
       "    <tr style=\"text-align: right;\">\n",
       "      <th></th>\n",
       "      <th>file</th>\n",
       "      <th>age</th>\n",
       "      <th>gender</th>\n",
       "      <th>race</th>\n",
       "      <th>phototype</th>\n",
       "    </tr>\n",
       "  </thead>\n",
       "  <tbody>\n",
       "    <tr>\n",
       "      <th>0</th>\n",
       "      <td>100.jpg</td>\n",
       "      <td>20-29</td>\n",
       "      <td>Female</td>\n",
       "      <td>East Asian</td>\n",
       "      <td>III</td>\n",
       "    </tr>\n",
       "    <tr>\n",
       "      <th>1</th>\n",
       "      <td>1000.jpg</td>\n",
       "      <td>20-29</td>\n",
       "      <td>Male</td>\n",
       "      <td>Latino_Hispanic</td>\n",
       "      <td>IV</td>\n",
       "    </tr>\n",
       "    <tr>\n",
       "      <th>2</th>\n",
       "      <td>10000.jpg</td>\n",
       "      <td>20-29</td>\n",
       "      <td>Female</td>\n",
       "      <td>East Asian</td>\n",
       "      <td>III</td>\n",
       "    </tr>\n",
       "    <tr>\n",
       "      <th>3</th>\n",
       "      <td>10001.jpg</td>\n",
       "      <td>20-29</td>\n",
       "      <td>Female</td>\n",
       "      <td>Southeast Asian</td>\n",
       "      <td>V</td>\n",
       "    </tr>\n",
       "    <tr>\n",
       "      <th>4</th>\n",
       "      <td>10004.jpg</td>\n",
       "      <td>20-29</td>\n",
       "      <td>Male</td>\n",
       "      <td>Southeast Asian</td>\n",
       "      <td>V</td>\n",
       "    </tr>\n",
       "    <tr>\n",
       "      <th>...</th>\n",
       "      <td>...</td>\n",
       "      <td>...</td>\n",
       "      <td>...</td>\n",
       "      <td>...</td>\n",
       "      <td>...</td>\n",
       "    </tr>\n",
       "    <tr>\n",
       "      <th>4510</th>\n",
       "      <td>9476.jpg</td>\n",
       "      <td>30-39</td>\n",
       "      <td>Female</td>\n",
       "      <td>Black</td>\n",
       "      <td>VI</td>\n",
       "    </tr>\n",
       "    <tr>\n",
       "      <th>4511</th>\n",
       "      <td>9501.jpg</td>\n",
       "      <td>40-49</td>\n",
       "      <td>Female</td>\n",
       "      <td>Black</td>\n",
       "      <td>VI</td>\n",
       "    </tr>\n",
       "    <tr>\n",
       "      <th>4512</th>\n",
       "      <td>9560.jpg</td>\n",
       "      <td>30-39</td>\n",
       "      <td>Female</td>\n",
       "      <td>Black</td>\n",
       "      <td>VI</td>\n",
       "    </tr>\n",
       "    <tr>\n",
       "      <th>4513</th>\n",
       "      <td>9561.jpg</td>\n",
       "      <td>20-29</td>\n",
       "      <td>Female</td>\n",
       "      <td>Black</td>\n",
       "      <td>VI</td>\n",
       "    </tr>\n",
       "    <tr>\n",
       "      <th>4514</th>\n",
       "      <td>9578.jpg</td>\n",
       "      <td>20-29</td>\n",
       "      <td>Female</td>\n",
       "      <td>Black</td>\n",
       "      <td>VI</td>\n",
       "    </tr>\n",
       "  </tbody>\n",
       "</table>\n",
       "<p>4515 rows × 5 columns</p>\n",
       "</div>"
      ],
      "text/plain": [
       "           file    age  gender             race phototype\n",
       "0       100.jpg  20-29  Female       East Asian       III\n",
       "1      1000.jpg  20-29    Male  Latino_Hispanic        IV\n",
       "2     10000.jpg  20-29  Female       East Asian       III\n",
       "3     10001.jpg  20-29  Female  Southeast Asian         V\n",
       "4     10004.jpg  20-29    Male  Southeast Asian         V\n",
       "...         ...    ...     ...              ...       ...\n",
       "4510   9476.jpg  30-39  Female            Black        VI\n",
       "4511   9501.jpg  40-49  Female            Black        VI\n",
       "4512   9560.jpg  30-39  Female            Black        VI\n",
       "4513   9561.jpg  20-29  Female            Black        VI\n",
       "4514   9578.jpg  20-29  Female            Black        VI\n",
       "\n",
       "[4515 rows x 5 columns]"
      ]
     },
     "execution_count": 4,
     "metadata": {},
     "output_type": "execute_result"
    }
   ],
   "source": [
    "testfinal=pd.read_csv('../input/fitzpatrick-classification-by-ethnicity/fitz_undersampled_test_final.csv')\n",
    "testfinal"
   ]
  },
  {
   "cell_type": "code",
   "execution_count": 5,
   "id": "33f4ed68",
   "metadata": {
    "execution": {
     "iopub.execute_input": "2023-06-04T04:20:59.999655Z",
     "iopub.status.busy": "2023-06-04T04:20:59.998832Z",
     "iopub.status.idle": "2023-06-04T04:21:00.005822Z",
     "shell.execute_reply": "2023-06-04T04:21:00.006429Z",
     "shell.execute_reply.started": "2023-06-04T03:34:23.006461Z"
    },
    "papermill": {
     "duration": 0.053014,
     "end_time": "2023-06-04T04:21:00.006621",
     "exception": false,
     "start_time": "2023-06-04T04:20:59.953607",
     "status": "completed"
    },
    "tags": []
   },
   "outputs": [
    {
     "name": "stdout",
     "output_type": "stream",
     "text": [
      "['III', 'V', 'I & II', 'IV', 'VI']\n",
      "5\n"
     ]
    }
   ],
   "source": [
    "Name = trainfinal['phototype'].unique().tolist()\n",
    "print(Name)\n",
    "print(len(Name))"
   ]
  },
  {
   "cell_type": "code",
   "execution_count": 6,
   "id": "842ce2d3",
   "metadata": {
    "execution": {
     "iopub.execute_input": "2023-06-04T04:21:00.089674Z",
     "iopub.status.busy": "2023-06-04T04:21:00.088827Z",
     "iopub.status.idle": "2023-06-04T04:21:00.143066Z",
     "shell.execute_reply": "2023-06-04T04:21:00.144101Z",
     "shell.execute_reply.started": "2023-06-04T04:16:19.358018Z"
    },
    "papermill": {
     "duration": 0.103586,
     "end_time": "2023-06-04T04:21:00.144305",
     "exception": false,
     "start_time": "2023-06-04T04:21:00.040719",
     "status": "completed"
    },
    "tags": []
   },
   "outputs": [
    {
     "name": "stdout",
     "output_type": "stream",
     "text": [
      "class 1: (7086, 5)\n",
      "class 2: (7086, 5)\n",
      "class 3: (7086, 5)\n",
      "class 4: (7086, 5)\n",
      "class 5: (7086, 5)\n"
     ]
    }
   ],
   "source": [
    "Class_count_1, Class_count_2, Class_count_3, Class_count_4,Class_count_5= trainfinal['phototype'].value_counts()\n",
    "# Separate class\n",
    "Class_count_1 = trainfinal[trainfinal['phototype'] == \"I & II\"]\n",
    "Class_count_2 = trainfinal[trainfinal['phototype'] == \"III\"]\n",
    "Class_count_3 = trainfinal[trainfinal['phototype'] == \"IV\"]\n",
    "Class_count_4 = trainfinal[trainfinal['phototype'] == \"V\"]\n",
    "Class_count_5 = trainfinal[trainfinal['phototype'] == \"VI\"]# print the shape of the class\n",
    "print('class 1:', Class_count_1.shape)\n",
    "print('class 2:', Class_count_2.shape)\n",
    "print('class 3:', Class_count_3.shape)\n",
    "print('class 4:', Class_count_4.shape)\n",
    "print('class 5:', Class_count_5.shape)"
   ]
  },
  {
   "cell_type": "code",
   "execution_count": 7,
   "id": "37ed4f38",
   "metadata": {
    "execution": {
     "iopub.execute_input": "2023-06-04T04:21:00.221325Z",
     "iopub.status.busy": "2023-06-04T04:21:00.220422Z",
     "iopub.status.idle": "2023-06-04T04:21:00.222737Z",
     "shell.execute_reply": "2023-06-04T04:21:00.222076Z",
     "shell.execute_reply.started": "2023-06-04T03:34:23.018685Z"
    },
    "papermill": {
     "duration": 0.043748,
     "end_time": "2023-06-04T04:21:00.222898",
     "exception": false,
     "start_time": "2023-06-04T04:21:00.179150",
     "status": "completed"
    },
    "tags": []
   },
   "outputs": [],
   "source": [
    "N=list(range(len(Name)))\n",
    "normal_mapping=dict(zip(Name,N)) \n",
    "reverse_mapping=dict(zip(N,Name)) "
   ]
  },
  {
   "cell_type": "code",
   "execution_count": 8,
   "id": "5cbeba86",
   "metadata": {
    "execution": {
     "iopub.execute_input": "2023-06-04T04:21:00.303433Z",
     "iopub.status.busy": "2023-06-04T04:21:00.302626Z",
     "iopub.status.idle": "2023-06-04T04:21:00.310508Z",
     "shell.execute_reply": "2023-06-04T04:21:00.311553Z",
     "shell.execute_reply.started": "2023-06-04T03:34:23.027060Z"
    },
    "papermill": {
     "duration": 0.05489,
     "end_time": "2023-06-04T04:21:00.311755",
     "exception": false,
     "start_time": "2023-06-04T04:21:00.256865",
     "status": "completed"
    },
    "tags": []
   },
   "outputs": [],
   "source": [
    "trainfinal['phototype2']=trainfinal['phototype'].map(normal_mapping)\n",
    "testfinal['phototype2']=testfinal['phototype'].map(normal_mapping)"
   ]
  },
  {
   "cell_type": "code",
   "execution_count": 9,
   "id": "d496f781",
   "metadata": {
    "execution": {
     "iopub.execute_input": "2023-06-04T04:21:00.391941Z",
     "iopub.status.busy": "2023-06-04T04:21:00.391104Z",
     "iopub.status.idle": "2023-06-04T04:21:01.093170Z",
     "shell.execute_reply": "2023-06-04T04:21:01.092079Z",
     "shell.execute_reply.started": "2023-06-04T03:34:23.043840Z"
    },
    "papermill": {
     "duration": 0.746673,
     "end_time": "2023-06-04T04:21:01.093328",
     "exception": false,
     "start_time": "2023-06-04T04:21:00.346655",
     "status": "completed"
    },
    "tags": []
   },
   "outputs": [
    {
     "data": {
      "image/png": "[encoded data removed]",
      "text/plain": [
       "<Figure size 432x288 with 1 Axes>"
      ]
     },
     "metadata": {
      "needs_background": "light"
     },
     "output_type": "display_data"
    },
    {
     "data": {
      "image/png": "[encoded data removed]",
      "text/plain": [
       "<Figure size 432x288 with 1 Axes>"
      ]
     },
     "metadata": {
      "needs_background": "light"
     },
     "output_type": "display_data"
    },
    {
     "data": {
      "image/png": "[encoded data removed]",
      "text/plain": [
       "<Figure size 432x288 with 1 Axes>"
      ]
     },
     "metadata": {
      "needs_background": "light"
     },
     "output_type": "display_data"
    }
   ],
   "source": [
    "path0='../input/fitzpatrick-classification-by-ethnicity/fairface/fairface/train/10006.jpg'\n",
    "image=cv2.imread(path0)\n",
    "plt.imshow(cv2.cvtColor(image,cv2.COLOR_BGR2RGB))\n",
    "plt.show()\n",
    "sp=image.shape\n",
    "\n",
    "image2=image[(sp[0]//3):(sp[0]*2//3),(sp[1]//3):(sp[1]*2//3),:]\n",
    "plt.imshow(cv2.cvtColor(image2,cv2.COLOR_BGR2RGB))\n",
    "plt.show()\n",
    "\n",
    "image3=cv2.resize(image2,(32,32)) \n",
    "#image3=cv2.resize(image2,dsize=(32,32),interpolation=cv2.INTER_CUBIC)\n",
    "plt.imshow(cv2.cvtColor(image3,cv2.COLOR_BGR2RGB))\n",
    "plt.show()"
   ]
  },
  {
   "cell_type": "code",
   "execution_count": 10,
   "id": "5854472a",
   "metadata": {
    "execution": {
     "iopub.execute_input": "2023-06-04T04:21:01.159317Z",
     "iopub.status.busy": "2023-06-04T04:21:01.158732Z",
     "iopub.status.idle": "2023-06-04T04:21:50.177329Z",
     "shell.execute_reply": "2023-06-04T04:21:50.177976Z",
     "shell.execute_reply.started": "2023-06-04T03:34:23.892629Z"
    },
    "papermill": {
     "duration": 49.055448,
     "end_time": "2023-06-04T04:21:50.178155",
     "exception": false,
     "start_time": "2023-06-04T04:21:01.122707",
     "status": "completed"
    },
    "tags": []
   },
   "outputs": [
    {
     "name": "stderr",
     "output_type": "stream",
     "text": [
      "100%|██████████| 5000/5000 [00:48<00:00, 102.73it/s]\n"
     ]
    }
   ],
   "source": [
    "trainX=[]\n",
    "trainY0=[]\n",
    "for im in tqdm(os.listdir(train_dir)[0:5000]):\n",
    "    image=cv2.imread(os.path.join(train_dir,im))\n",
    "    if im[-4:]=='.jpg':\n",
    "        lists=trainfinal[trainfinal['file']==im]['phototype2'].tolist()\n",
    "        if len(lists)==1:\n",
    "            count=lists[0]\n",
    "            sp=image.shape\n",
    "            image2=image[(sp[0]//3):(sp[0]*2//3),(sp[1]//3):(sp[1]*2//3),:]\n",
    "            image3=cv2.resize(image2,(32,32))\n",
    "            trainX+=[image3]\n",
    "            trainY0+=[count]"
   ]
  },
  {
   "cell_type": "code",
   "execution_count": 11,
   "id": "8eeebf6e",
   "metadata": {
    "execution": {
     "iopub.execute_input": "2023-06-04T04:21:50.531450Z",
     "iopub.status.busy": "2023-06-04T04:21:50.530750Z",
     "iopub.status.idle": "2023-06-04T04:22:15.636389Z",
     "shell.execute_reply": "2023-06-04T04:22:15.636909Z",
     "shell.execute_reply.started": "2023-06-04T03:35:13.507120Z"
    },
    "papermill": {
     "duration": 25.285982,
     "end_time": "2023-06-04T04:22:15.637079",
     "exception": false,
     "start_time": "2023-06-04T04:21:50.351097",
     "status": "completed"
    },
    "tags": []
   },
   "outputs": [
    {
     "name": "stderr",
     "output_type": "stream",
     "text": [
      "100%|██████████| 4535/4535 [00:24<00:00, 181.68it/s]\n"
     ]
    }
   ],
   "source": [
    "testX=[]\n",
    "testY0=[]\n",
    "for im in tqdm(os.listdir(test_dir)):\n",
    "    image=cv2.imread(os.path.join(test_dir,im))\n",
    "    if im[-4:]=='.jpg':\n",
    "        lists=testfinal[testfinal['file']==im]['phototype2'].tolist()\n",
    "        if len(lists)==1:\n",
    "            count=lists[0]\n",
    "            image2=image[(sp[0]//3):(sp[0]*2//3),(sp[1]//3):(sp[1]*2//3),:]\n",
    "            image3=cv2.resize(image2,(32,32))\n",
    "            testX+=[image3]\n",
    "            testY0+=[count]"
   ]
  },
  {
   "cell_type": "code",
   "execution_count": 12,
   "id": "120342d8",
   "metadata": {
    "execution": {
     "iopub.execute_input": "2023-06-04T04:22:16.223891Z",
     "iopub.status.busy": "2023-06-04T04:22:16.222951Z",
     "iopub.status.idle": "2023-06-04T04:22:16.225023Z",
     "shell.execute_reply": "2023-06-04T04:22:16.225505Z",
     "shell.execute_reply.started": "2023-06-04T03:35:37.797951Z"
    },
    "papermill": {
     "duration": 0.255416,
     "end_time": "2023-06-04T04:22:16.225655",
     "exception": false,
     "start_time": "2023-06-04T04:22:15.970239",
     "status": "completed"
    },
    "tags": []
   },
   "outputs": [],
   "source": [
    "labels1=to_categorical(trainY0)\n",
    "trainY=np.array(labels1)"
   ]
  },
  {
   "cell_type": "code",
   "execution_count": 13,
   "id": "aa06ed9b",
   "metadata": {
    "execution": {
     "iopub.execute_input": "2023-06-04T04:22:16.743866Z",
     "iopub.status.busy": "2023-06-04T04:22:16.742838Z",
     "iopub.status.idle": "2023-06-04T04:22:16.768647Z",
     "shell.execute_reply": "2023-06-04T04:22:16.768076Z",
     "shell.execute_reply.started": "2023-06-04T03:35:37.805701Z"
    },
    "papermill": {
     "duration": 0.292625,
     "end_time": "2023-06-04T04:22:16.768789",
     "exception": false,
     "start_time": "2023-06-04T04:22:16.476164",
     "status": "completed"
    },
    "tags": []
   },
   "outputs": [],
   "source": [
    "trainX=np.array(trainX)\n",
    "testX=np.array(testX)"
   ]
  },
  {
   "cell_type": "code",
   "execution_count": 14,
   "id": "e5205bd4",
   "metadata": {
    "execution": {
     "iopub.execute_input": "2023-06-04T04:22:17.289042Z",
     "iopub.status.busy": "2023-06-04T04:22:17.286703Z",
     "iopub.status.idle": "2023-06-04T04:22:17.297704Z",
     "shell.execute_reply": "2023-06-04T04:22:17.297143Z",
     "shell.execute_reply.started": "2023-06-04T03:35:37.839407Z"
    },
    "papermill": {
     "duration": 0.269896,
     "end_time": "2023-06-04T04:22:17.297872",
     "exception": false,
     "start_time": "2023-06-04T04:22:17.027976",
     "status": "completed"
    },
    "tags": []
   },
   "outputs": [],
   "source": [
    "trainx,testx,trainy,testy=train_test_split(trainX,trainY,test_size=0.2,random_state=44)"
   ]
  },
  {
   "cell_type": "code",
   "execution_count": 15,
   "id": "ef7f23da",
   "metadata": {
    "execution": {
     "iopub.execute_input": "2023-06-04T04:22:17.822791Z",
     "iopub.status.busy": "2023-06-04T04:22:17.821783Z",
     "iopub.status.idle": "2023-06-04T04:22:17.823785Z",
     "shell.execute_reply": "2023-06-04T04:22:17.824316Z",
     "shell.execute_reply.started": "2023-06-04T03:35:37.858463Z"
    },
    "papermill": {
     "duration": 0.270009,
     "end_time": "2023-06-04T04:22:17.824488",
     "exception": false,
     "start_time": "2023-06-04T04:22:17.554479",
     "status": "completed"
    },
    "tags": []
   },
   "outputs": [],
   "source": [
    "datagen = ImageDataGenerator(horizontal_flip=True,vertical_flip=True,rotation_range=20,zoom_range=0.2,\n",
    "                        width_shift_range=0.2,height_shift_range=0.2,shear_range=0.1,fill_mode=\"nearest\")"
   ]
  },
  {
   "cell_type": "code",
   "execution_count": 16,
   "id": "1420b877",
   "metadata": {
    "execution": {
     "iopub.execute_input": "2023-06-04T04:22:18.353980Z",
     "iopub.status.busy": "2023-06-04T04:22:18.348391Z",
     "iopub.status.idle": "2023-06-04T04:22:29.089843Z",
     "shell.execute_reply": "2023-06-04T04:22:29.089273Z",
     "shell.execute_reply.started": "2023-06-04T03:35:37.866910Z"
    },
    "papermill": {
     "duration": 11.006926,
     "end_time": "2023-06-04T04:22:29.089999",
     "exception": false,
     "start_time": "2023-06-04T04:22:18.083073",
     "status": "completed"
    },
    "tags": []
   },
   "outputs": [
    {
     "name": "stdout",
     "output_type": "stream",
     "text": [
      "Downloading data from https://storage.googleapis.com/tensorflow/keras-applications/densenet/densenet201_weights_tf_dim_ordering_tf_kernels_notop.h5\n",
      "74842112/74836368 [==============================] - 4s 0us/step\n"
     ]
    }
   ],
   "source": [
    "pretrained_model3 = tf.keras.applications.DenseNet201(input_shape=(32,32,3),include_top=False,weights='imagenet',pooling='avg')\n",
    "pretrained_model3.trainable = False"
   ]
  },
  {
   "cell_type": "code",
   "execution_count": 17,
   "id": "7e718114",
   "metadata": {
    "execution": {
     "iopub.execute_input": "2023-06-04T04:22:29.646654Z",
     "iopub.status.busy": "2023-06-04T04:22:29.645608Z",
     "iopub.status.idle": "2023-06-04T04:22:29.716132Z",
     "shell.execute_reply": "2023-06-04T04:22:29.715046Z",
     "shell.execute_reply.started": "2023-06-04T03:35:44.751922Z"
    },
    "papermill": {
     "duration": 0.356131,
     "end_time": "2023-06-04T04:22:29.716269",
     "exception": false,
     "start_time": "2023-06-04T04:22:29.360138",
     "status": "completed"
    },
    "tags": []
   },
   "outputs": [],
   "source": [
    "inputs3 = pretrained_model3.input\n",
    "x3 = tf.keras.layers.Dense(128, activation='relu')(pretrained_model3.output)\n",
    "outputs3 = tf.keras.layers.Dense(len(Name), activation='softmax')(x3)\n",
    "model = tf.keras.Model(inputs=inputs3, outputs=outputs3)"
   ]
  },
  {
   "cell_type": "code",
   "execution_count": 18,
   "id": "233d4d95",
   "metadata": {
    "execution": {
     "iopub.execute_input": "2023-06-04T04:22:30.283703Z",
     "iopub.status.busy": "2023-06-04T04:22:30.282781Z",
     "iopub.status.idle": "2023-06-04T04:22:30.292320Z",
     "shell.execute_reply": "2023-06-04T04:22:30.292920Z",
     "shell.execute_reply.started": "2023-06-04T03:35:44.823781Z"
    },
    "papermill": {
     "duration": 0.300508,
     "end_time": "2023-06-04T04:22:30.293110",
     "exception": false,
     "start_time": "2023-06-04T04:22:29.992602",
     "status": "completed"
    },
    "tags": []
   },
   "outputs": [],
   "source": [
    "model.compile(optimizer='adam',loss='categorical_crossentropy',metrics=['accuracy'])"
   ]
  },
  {
   "cell_type": "code",
   "execution_count": 19,
   "id": "9d50914e",
   "metadata": {
    "execution": {
     "iopub.execute_input": "2023-06-04T04:22:30.841568Z",
     "iopub.status.busy": "2023-06-04T04:22:30.840236Z",
     "iopub.status.idle": "2023-06-04T04:32:36.243862Z",
     "shell.execute_reply": "2023-06-04T04:32:36.243018Z",
     "shell.execute_reply.started": "2023-06-04T03:54:35.366036Z"
    },
    "papermill": {
     "duration": 605.679233,
     "end_time": "2023-06-04T04:32:36.244000",
     "exception": false,
     "start_time": "2023-06-04T04:22:30.564767",
     "status": "completed"
    },
    "tags": []
   },
   "outputs": [
    {
     "name": "stdout",
     "output_type": "stream",
     "text": [
      "Epoch 1/100\n",
      "125/125 [==============================] - 26s 80ms/step - loss: 2.1609 - accuracy: 0.2455 - val_loss: 1.5972 - val_accuracy: 0.3013\n",
      "Epoch 2/100\n",
      "125/125 [==============================] - 6s 46ms/step - loss: 1.5932 - accuracy: 0.3266 - val_loss: 1.5618 - val_accuracy: 0.3253\n",
      "Epoch 3/100\n",
      "125/125 [==============================] - 6s 51ms/step - loss: 1.5684 - accuracy: 0.3149 - val_loss: 1.5691 - val_accuracy: 0.3153\n",
      "Epoch 4/100\n",
      "125/125 [==============================] - 6s 45ms/step - loss: 1.5408 - accuracy: 0.3175 - val_loss: 1.5626 - val_accuracy: 0.3163\n",
      "Epoch 5/100\n",
      "125/125 [==============================] - 6s 45ms/step - loss: 1.4964 - accuracy: 0.3578 - val_loss: 1.5346 - val_accuracy: 0.3243\n",
      "Epoch 6/100\n",
      "125/125 [==============================] - 6s 48ms/step - loss: 1.5099 - accuracy: 0.3293 - val_loss: 1.5074 - val_accuracy: 0.3303\n",
      "Epoch 7/100\n",
      "125/125 [==============================] - 6s 49ms/step - loss: 1.4933 - accuracy: 0.3428 - val_loss: 1.5314 - val_accuracy: 0.3403\n",
      "Epoch 8/100\n",
      "125/125 [==============================] - 6s 50ms/step - loss: 1.4736 - accuracy: 0.3620 - val_loss: 1.4981 - val_accuracy: 0.3303\n",
      "Epoch 9/100\n",
      "125/125 [==============================] - 6s 48ms/step - loss: 1.4791 - accuracy: 0.3523 - val_loss: 1.5016 - val_accuracy: 0.3253\n",
      "Epoch 10/100\n",
      "125/125 [==============================] - 6s 49ms/step - loss: 1.4594 - accuracy: 0.3649 - val_loss: 1.5049 - val_accuracy: 0.3293\n",
      "Epoch 11/100\n",
      "125/125 [==============================] - 6s 47ms/step - loss: 1.4678 - accuracy: 0.3676 - val_loss: 1.5595 - val_accuracy: 0.3303\n",
      "Epoch 12/100\n",
      "125/125 [==============================] - 6s 47ms/step - loss: 1.4794 - accuracy: 0.3638 - val_loss: 1.4914 - val_accuracy: 0.3443\n",
      "Epoch 13/100\n",
      "125/125 [==============================] - 6s 47ms/step - loss: 1.4671 - accuracy: 0.3602 - val_loss: 1.5075 - val_accuracy: 0.3193\n",
      "Epoch 14/100\n",
      "125/125 [==============================] - 6s 50ms/step - loss: 1.4469 - accuracy: 0.3860 - val_loss: 1.4860 - val_accuracy: 0.3163\n",
      "Epoch 15/100\n",
      "125/125 [==============================] - 6s 45ms/step - loss: 1.4632 - accuracy: 0.3616 - val_loss: 1.5071 - val_accuracy: 0.3524\n",
      "Epoch 16/100\n",
      "125/125 [==============================] - 6s 45ms/step - loss: 1.4541 - accuracy: 0.3677 - val_loss: 1.5060 - val_accuracy: 0.3524\n",
      "Epoch 17/100\n",
      "125/125 [==============================] - 6s 45ms/step - loss: 1.4319 - accuracy: 0.3831 - val_loss: 1.5251 - val_accuracy: 0.3153\n",
      "Epoch 18/100\n",
      "125/125 [==============================] - 6s 49ms/step - loss: 1.4453 - accuracy: 0.3603 - val_loss: 1.5161 - val_accuracy: 0.3403\n",
      "Epoch 19/100\n",
      "125/125 [==============================] - 6s 51ms/step - loss: 1.4601 - accuracy: 0.3587 - val_loss: 1.4958 - val_accuracy: 0.3493\n",
      "Epoch 20/100\n",
      "125/125 [==============================] - 6s 47ms/step - loss: 1.4317 - accuracy: 0.3880 - val_loss: 1.5080 - val_accuracy: 0.3323\n",
      "Epoch 21/100\n",
      "125/125 [==============================] - 6s 47ms/step - loss: 1.4488 - accuracy: 0.3678 - val_loss: 1.4797 - val_accuracy: 0.3473\n",
      "Epoch 22/100\n",
      "125/125 [==============================] - 6s 47ms/step - loss: 1.4296 - accuracy: 0.3795 - val_loss: 1.4923 - val_accuracy: 0.3544\n",
      "Epoch 23/100\n",
      "125/125 [==============================] - 6s 49ms/step - loss: 1.4284 - accuracy: 0.3903 - val_loss: 1.5186 - val_accuracy: 0.3303\n",
      "Epoch 24/100\n",
      "125/125 [==============================] - 6s 45ms/step - loss: 1.4441 - accuracy: 0.3782 - val_loss: 1.5050 - val_accuracy: 0.3493\n",
      "Epoch 25/100\n",
      "125/125 [==============================] - 6s 47ms/step - loss: 1.4341 - accuracy: 0.3902 - val_loss: 1.5004 - val_accuracy: 0.3423\n",
      "Epoch 26/100\n",
      "125/125 [==============================] - 6s 44ms/step - loss: 1.4415 - accuracy: 0.3721 - val_loss: 1.5228 - val_accuracy: 0.3534\n",
      "Epoch 27/100\n",
      "125/125 [==============================] - 5s 43ms/step - loss: 1.4436 - accuracy: 0.3730 - val_loss: 1.5295 - val_accuracy: 0.3193\n",
      "Epoch 28/100\n",
      "125/125 [==============================] - 6s 49ms/step - loss: 1.4380 - accuracy: 0.3890 - val_loss: 1.4928 - val_accuracy: 0.3574\n",
      "Epoch 29/100\n",
      "125/125 [==============================] - 5s 43ms/step - loss: 1.4202 - accuracy: 0.3877 - val_loss: 1.4861 - val_accuracy: 0.3443\n",
      "Epoch 30/100\n",
      "125/125 [==============================] - 6s 49ms/step - loss: 1.4239 - accuracy: 0.3838 - val_loss: 1.5222 - val_accuracy: 0.3363\n",
      "Epoch 31/100\n",
      "125/125 [==============================] - 5s 43ms/step - loss: 1.4283 - accuracy: 0.3768 - val_loss: 1.5186 - val_accuracy: 0.3443\n",
      "Epoch 32/100\n",
      "125/125 [==============================] - 6s 44ms/step - loss: 1.4086 - accuracy: 0.3921 - val_loss: 1.5009 - val_accuracy: 0.3493\n",
      "Epoch 33/100\n",
      "125/125 [==============================] - 5s 42ms/step - loss: 1.4290 - accuracy: 0.3834 - val_loss: 1.5223 - val_accuracy: 0.3413\n",
      "Epoch 34/100\n",
      "125/125 [==============================] - 6s 50ms/step - loss: 1.4150 - accuracy: 0.4019 - val_loss: 1.4935 - val_accuracy: 0.3594\n",
      "Epoch 35/100\n",
      "125/125 [==============================] - 6s 44ms/step - loss: 1.4146 - accuracy: 0.3816 - val_loss: 1.5223 - val_accuracy: 0.3564\n",
      "Epoch 36/100\n",
      "125/125 [==============================] - 6s 50ms/step - loss: 1.4260 - accuracy: 0.3846 - val_loss: 1.5057 - val_accuracy: 0.3483\n",
      "Epoch 37/100\n",
      "125/125 [==============================] - 6s 46ms/step - loss: 1.4299 - accuracy: 0.3717 - val_loss: 1.5059 - val_accuracy: 0.3453\n",
      "Epoch 38/100\n",
      "125/125 [==============================] - 5s 43ms/step - loss: 1.4357 - accuracy: 0.3755 - val_loss: 1.4969 - val_accuracy: 0.3534\n",
      "Epoch 39/100\n",
      "125/125 [==============================] - 6s 51ms/step - loss: 1.4016 - accuracy: 0.4029 - val_loss: 1.4898 - val_accuracy: 0.3584\n",
      "Epoch 40/100\n",
      "125/125 [==============================] - 6s 44ms/step - loss: 1.4134 - accuracy: 0.3870 - val_loss: 1.4998 - val_accuracy: 0.3594\n",
      "Epoch 41/100\n",
      "125/125 [==============================] - 6s 50ms/step - loss: 1.4141 - accuracy: 0.3929 - val_loss: 1.5661 - val_accuracy: 0.3063\n",
      "Epoch 42/100\n",
      "125/125 [==============================] - 6s 44ms/step - loss: 1.4112 - accuracy: 0.3957 - val_loss: 1.4996 - val_accuracy: 0.3584\n",
      "Epoch 43/100\n",
      "125/125 [==============================] - 6s 45ms/step - loss: 1.4105 - accuracy: 0.3892 - val_loss: 1.5224 - val_accuracy: 0.3383\n",
      "Epoch 44/100\n",
      "125/125 [==============================] - 6s 44ms/step - loss: 1.4011 - accuracy: 0.3956 - val_loss: 1.5559 - val_accuracy: 0.3524\n",
      "Epoch 45/100\n",
      "125/125 [==============================] - 6s 51ms/step - loss: 1.3863 - accuracy: 0.3992 - val_loss: 1.5361 - val_accuracy: 0.3373\n",
      "Epoch 46/100\n",
      "125/125 [==============================] - 5s 43ms/step - loss: 1.3874 - accuracy: 0.3939 - val_loss: 1.4943 - val_accuracy: 0.3694\n",
      "Epoch 47/100\n",
      "125/125 [==============================] - 6s 50ms/step - loss: 1.3957 - accuracy: 0.4099 - val_loss: 1.5405 - val_accuracy: 0.3654\n",
      "Epoch 48/100\n",
      "125/125 [==============================] - 5s 43ms/step - loss: 1.4096 - accuracy: 0.3921 - val_loss: 1.5082 - val_accuracy: 0.3534\n",
      "Epoch 49/100\n",
      "125/125 [==============================] - 6s 45ms/step - loss: 1.3772 - accuracy: 0.4185 - val_loss: 1.4990 - val_accuracy: 0.3654\n",
      "Epoch 50/100\n",
      "125/125 [==============================] - 6s 51ms/step - loss: 1.4138 - accuracy: 0.3867 - val_loss: 1.5217 - val_accuracy: 0.3634\n",
      "Epoch 51/100\n",
      "125/125 [==============================] - 6s 45ms/step - loss: 1.4013 - accuracy: 0.3952 - val_loss: 1.5211 - val_accuracy: 0.3443\n",
      "Epoch 52/100\n",
      "125/125 [==============================] - 6s 50ms/step - loss: 1.3771 - accuracy: 0.4136 - val_loss: 1.5224 - val_accuracy: 0.3393\n",
      "Epoch 53/100\n",
      "125/125 [==============================] - 5s 43ms/step - loss: 1.3717 - accuracy: 0.4110 - val_loss: 1.5051 - val_accuracy: 0.3684\n",
      "Epoch 54/100\n",
      "125/125 [==============================] - 5s 44ms/step - loss: 1.3786 - accuracy: 0.4072 - val_loss: 1.5179 - val_accuracy: 0.3473\n",
      "Epoch 55/100\n",
      "125/125 [==============================] - 5s 43ms/step - loss: 1.3836 - accuracy: 0.4080 - val_loss: 1.5179 - val_accuracy: 0.3403\n",
      "Epoch 56/100\n",
      "125/125 [==============================] - 7s 53ms/step - loss: 1.3944 - accuracy: 0.3981 - val_loss: 1.4998 - val_accuracy: 0.3624\n",
      "Epoch 57/100\n",
      "125/125 [==============================] - 5s 43ms/step - loss: 1.3778 - accuracy: 0.4174 - val_loss: 1.5213 - val_accuracy: 0.3534\n",
      "Epoch 58/100\n",
      "125/125 [==============================] - 6s 50ms/step - loss: 1.3726 - accuracy: 0.4082 - val_loss: 1.5171 - val_accuracy: 0.3493\n",
      "Epoch 59/100\n",
      "125/125 [==============================] - 5s 43ms/step - loss: 1.3900 - accuracy: 0.4020 - val_loss: 1.5140 - val_accuracy: 0.3534\n",
      "Epoch 60/100\n",
      "125/125 [==============================] - 5s 43ms/step - loss: 1.3735 - accuracy: 0.3992 - val_loss: 1.5582 - val_accuracy: 0.3443\n",
      "Epoch 61/100\n",
      "125/125 [==============================] - 5s 43ms/step - loss: 1.3707 - accuracy: 0.3983 - val_loss: 1.5273 - val_accuracy: 0.3353\n",
      "Epoch 62/100\n",
      "125/125 [==============================] - 7s 52ms/step - loss: 1.3708 - accuracy: 0.3942 - val_loss: 1.5312 - val_accuracy: 0.3493\n",
      "Epoch 63/100\n",
      "125/125 [==============================] - 6s 49ms/step - loss: 1.3967 - accuracy: 0.3895 - val_loss: 1.5082 - val_accuracy: 0.3524\n",
      "Epoch 64/100\n",
      "125/125 [==============================] - 5s 44ms/step - loss: 1.3650 - accuracy: 0.4147 - val_loss: 1.5379 - val_accuracy: 0.3544\n",
      "Epoch 65/100\n",
      "125/125 [==============================] - 5s 43ms/step - loss: 1.3844 - accuracy: 0.3916 - val_loss: 1.5179 - val_accuracy: 0.3684\n",
      "Epoch 66/100\n",
      "125/125 [==============================] - 6s 44ms/step - loss: 1.3735 - accuracy: 0.4133 - val_loss: 1.5161 - val_accuracy: 0.3584\n",
      "Epoch 67/100\n",
      "125/125 [==============================] - 7s 53ms/step - loss: 1.3723 - accuracy: 0.4136 - val_loss: 1.5285 - val_accuracy: 0.3453\n",
      "Epoch 68/100\n",
      "125/125 [==============================] - 6s 44ms/step - loss: 1.3792 - accuracy: 0.4060 - val_loss: 1.5300 - val_accuracy: 0.3584\n",
      "Epoch 69/100\n",
      "125/125 [==============================] - 6s 48ms/step - loss: 1.3508 - accuracy: 0.4338 - val_loss: 1.5350 - val_accuracy: 0.3393\n",
      "Epoch 70/100\n",
      "125/125 [==============================] - 5s 43ms/step - loss: 1.3593 - accuracy: 0.3930 - val_loss: 1.5048 - val_accuracy: 0.3534\n",
      "Epoch 71/100\n",
      "125/125 [==============================] - 5s 42ms/step - loss: 1.3709 - accuracy: 0.4139 - val_loss: 1.5363 - val_accuracy: 0.3423\n",
      "Epoch 72/100\n",
      "125/125 [==============================] - 6s 44ms/step - loss: 1.3542 - accuracy: 0.4194 - val_loss: 1.5344 - val_accuracy: 0.3564\n",
      "Epoch 73/100\n",
      "125/125 [==============================] - 7s 55ms/step - loss: 1.3761 - accuracy: 0.4140 - val_loss: 1.5174 - val_accuracy: 0.3504\n",
      "Epoch 74/100\n",
      "125/125 [==============================] - 6s 48ms/step - loss: 1.3679 - accuracy: 0.4071 - val_loss: 1.5577 - val_accuracy: 0.3473\n",
      "Epoch 75/100\n",
      "125/125 [==============================] - 5s 44ms/step - loss: 1.3810 - accuracy: 0.4112 - val_loss: 1.5081 - val_accuracy: 0.3483\n",
      "Epoch 76/100\n",
      "125/125 [==============================] - 5s 42ms/step - loss: 1.3784 - accuracy: 0.4078 - val_loss: 1.5579 - val_accuracy: 0.3383\n",
      "Epoch 77/100\n",
      "125/125 [==============================] - 6s 44ms/step - loss: 1.3751 - accuracy: 0.4054 - val_loss: 1.5389 - val_accuracy: 0.3504\n",
      "Epoch 78/100\n",
      "125/125 [==============================] - 5s 43ms/step - loss: 1.3574 - accuracy: 0.4157 - val_loss: 1.5359 - val_accuracy: 0.3574\n",
      "Epoch 79/100\n",
      "125/125 [==============================] - 7s 56ms/step - loss: 1.3599 - accuracy: 0.4231 - val_loss: 1.5609 - val_accuracy: 0.3624\n",
      "Epoch 80/100\n",
      "125/125 [==============================] - 6s 48ms/step - loss: 1.3564 - accuracy: 0.4213 - val_loss: 1.5504 - val_accuracy: 0.3453\n",
      "Epoch 81/100\n",
      "125/125 [==============================] - 5s 43ms/step - loss: 1.3455 - accuracy: 0.4298 - val_loss: 1.5836 - val_accuracy: 0.3493\n",
      "Epoch 82/100\n",
      "125/125 [==============================] - 5s 43ms/step - loss: 1.3680 - accuracy: 0.4142 - val_loss: 1.5801 - val_accuracy: 0.3393\n",
      "Epoch 83/100\n",
      "125/125 [==============================] - 5s 43ms/step - loss: 1.3564 - accuracy: 0.4185 - val_loss: 1.5471 - val_accuracy: 0.3413\n",
      "Epoch 84/100\n",
      "125/125 [==============================] - 6s 49ms/step - loss: 1.3420 - accuracy: 0.4216 - val_loss: 1.5411 - val_accuracy: 0.3594\n",
      "Epoch 85/100\n",
      "125/125 [==============================] - 7s 55ms/step - loss: 1.3558 - accuracy: 0.4140 - val_loss: 1.5687 - val_accuracy: 0.3383\n",
      "Epoch 86/100\n",
      "125/125 [==============================] - 5s 43ms/step - loss: 1.3679 - accuracy: 0.4011 - val_loss: 1.5465 - val_accuracy: 0.3403\n",
      "Epoch 87/100\n",
      "125/125 [==============================] - 5s 44ms/step - loss: 1.3578 - accuracy: 0.4176 - val_loss: 1.5564 - val_accuracy: 0.3483\n",
      "Epoch 88/100\n",
      "125/125 [==============================] - 5s 43ms/step - loss: 1.3590 - accuracy: 0.4191 - val_loss: 1.5303 - val_accuracy: 0.3463\n",
      "Epoch 89/100\n",
      "125/125 [==============================] - 6s 44ms/step - loss: 1.3510 - accuracy: 0.4385 - val_loss: 1.5371 - val_accuracy: 0.3453\n",
      "Epoch 90/100\n",
      "125/125 [==============================] - 7s 56ms/step - loss: 1.3411 - accuracy: 0.4321 - val_loss: 1.5323 - val_accuracy: 0.3343\n",
      "Epoch 91/100\n",
      "125/125 [==============================] - 6s 49ms/step - loss: 1.3443 - accuracy: 0.4255 - val_loss: 1.5669 - val_accuracy: 0.3333\n",
      "Epoch 92/100\n",
      "125/125 [==============================] - 6s 44ms/step - loss: 1.3574 - accuracy: 0.4240 - val_loss: 1.5607 - val_accuracy: 0.3403\n",
      "Epoch 93/100\n",
      "125/125 [==============================] - 5s 44ms/step - loss: 1.3552 - accuracy: 0.4105 - val_loss: 1.5382 - val_accuracy: 0.3704\n",
      "Epoch 94/100\n",
      "125/125 [==============================] - 6s 45ms/step - loss: 1.3453 - accuracy: 0.4238 - val_loss: 1.5486 - val_accuracy: 0.3323\n",
      "Epoch 95/100\n",
      "125/125 [==============================] - 5s 44ms/step - loss: 1.3681 - accuracy: 0.4230 - val_loss: 1.5461 - val_accuracy: 0.3554\n",
      "Epoch 96/100\n",
      "125/125 [==============================] - 8s 65ms/step - loss: 1.3719 - accuracy: 0.4229 - val_loss: 1.5774 - val_accuracy: 0.3413\n",
      "Epoch 97/100\n",
      "125/125 [==============================] - 5s 43ms/step - loss: 1.3537 - accuracy: 0.4201 - val_loss: 1.5491 - val_accuracy: 0.3413\n",
      "Epoch 98/100\n",
      "125/125 [==============================] - 6s 44ms/step - loss: 1.3465 - accuracy: 0.4204 - val_loss: 1.5447 - val_accuracy: 0.3614\n",
      "Epoch 99/100\n",
      "125/125 [==============================] - 5s 43ms/step - loss: 1.3545 - accuracy: 0.4205 - val_loss: 1.5639 - val_accuracy: 0.3453\n",
      "Epoch 100/100\n",
      "125/125 [==============================] - 6s 44ms/step - loss: 1.3350 - accuracy: 0.4266 - val_loss: 1.5591 - val_accuracy: 0.3293\n"
     ]
    }
   ],
   "source": [
    "his=model.fit(datagen.flow(trainx,trainy,batch_size=32),validation_data=(testx,testy),epochs=100)"
   ]
  },
  {
   "cell_type": "code",
   "execution_count": 20,
   "id": "59609afe",
   "metadata": {
    "execution": {
     "iopub.execute_input": "2023-06-04T04:32:41.189335Z",
     "iopub.status.busy": "2023-06-04T04:32:41.188449Z",
     "iopub.status.idle": "2023-06-04T04:32:45.187389Z",
     "shell.execute_reply": "2023-06-04T04:32:45.187916Z",
     "shell.execute_reply.started": "2023-06-04T04:05:02.254250Z"
    },
    "papermill": {
     "duration": 6.482465,
     "end_time": "2023-06-04T04:32:45.188074",
     "exception": false,
     "start_time": "2023-06-04T04:32:38.705609",
     "status": "completed"
    },
    "tags": []
   },
   "outputs": [
    {
     "name": "stdout",
     "output_type": "stream",
     "text": [
      "              precision    recall  f1-score   support\n",
      "\n",
      "           0       0.29      0.41      0.34       196\n",
      "           1       0.30      0.17      0.22       209\n",
      "           2       0.37      0.23      0.29       188\n",
      "           3       0.26      0.37      0.30       197\n",
      "           4       0.46      0.46      0.46       209\n",
      "\n",
      "    accuracy                           0.33       999\n",
      "   macro avg       0.34      0.33      0.32       999\n",
      "weighted avg       0.34      0.33      0.32       999\n",
      "\n"
     ]
    }
   ],
   "source": [
    "y_pred=model.predict(testx)\n",
    "pred=np.argmax(y_pred,axis=1)\n",
    "ground = np.argmax(testy,axis=1)\n",
    "print(classification_report(ground,pred))"
   ]
  },
  {
   "cell_type": "code",
   "execution_count": 21,
   "id": "505c872e",
   "metadata": {
    "execution": {
     "iopub.execute_input": "2023-06-04T04:32:50.173087Z",
     "iopub.status.busy": "2023-06-04T04:32:50.155869Z",
     "iopub.status.idle": "2023-06-04T04:32:50.378658Z",
     "shell.execute_reply": "2023-06-04T04:32:50.378071Z",
     "shell.execute_reply.started": "2023-06-04T04:05:08.027583Z"
    },
    "papermill": {
     "duration": 2.677243,
     "end_time": "2023-06-04T04:32:50.378804",
     "exception": false,
     "start_time": "2023-06-04T04:32:47.701561",
     "status": "completed"
    },
    "tags": []
   },
   "outputs": [
    {
     "data": {
      "image/png": "[encoded data removed]",
      "text/plain": [
       "<Figure size 432x288 with 1 Axes>"
      ]
     },
     "metadata": {
      "needs_background": "light"
     },
     "output_type": "display_data"
    },
    {
     "data": {
      "text/plain": [
       "<Figure size 432x288 with 0 Axes>"
      ]
     },
     "metadata": {},
     "output_type": "display_data"
    }
   ],
   "source": [
    "get_acc = his.history['accuracy']\n",
    "value_acc = his.history['val_accuracy']\n",
    "get_loss = his.history['loss']\n",
    "validation_loss = his.history['val_loss']\n",
    "\n",
    "epochs = range(len(get_acc))\n",
    "plt.plot(epochs, get_acc, 'r', label='Accuracy of Training data')\n",
    "plt.plot(epochs, value_acc, 'b', label='Accuracy of Validation data')\n",
    "plt.title('Training vs validation accuracy')\n",
    "plt.legend(loc=0)\n",
    "plt.figure()\n",
    "plt.show()"
   ]
  },
  {
   "cell_type": "code",
   "execution_count": 22,
   "id": "a37fac3d",
   "metadata": {
    "execution": {
     "iopub.execute_input": "2023-06-04T04:32:55.439962Z",
     "iopub.status.busy": "2023-06-04T04:32:55.436433Z",
     "iopub.status.idle": "2023-06-04T04:32:55.627032Z",
     "shell.execute_reply": "2023-06-04T04:32:55.627822Z",
     "shell.execute_reply.started": "2023-06-04T04:05:13.837801Z"
    },
    "papermill": {
     "duration": 2.8076,
     "end_time": "2023-06-04T04:32:55.627988",
     "exception": false,
     "start_time": "2023-06-04T04:32:52.820388",
     "status": "completed"
    },
    "tags": []
   },
   "outputs": [
    {
     "data": {
      "image/png": "[encoded data removed]",
      "text/plain": [
       "<Figure size 432x288 with 1 Axes>"
      ]
     },
     "metadata": {
      "needs_background": "light"
     },
     "output_type": "display_data"
    },
    {
     "data": {
      "text/plain": [
       "<Figure size 432x288 with 0 Axes>"
      ]
     },
     "metadata": {},
     "output_type": "display_data"
    }
   ],
   "source": [
    "epochs = range(len(get_loss))\n",
    "plt.plot(epochs, get_loss, 'r', label='Loss of Training data')\n",
    "plt.plot(epochs, validation_loss, 'b', label='Loss of Validation data')\n",
    "plt.title('Training vs validation loss')\n",
    "plt.legend(loc=0)\n",
    "plt.figure()\n",
    "plt.show()"
   ]
  },
  {
   "cell_type": "code",
   "execution_count": 23,
   "id": "8cf99b31",
   "metadata": {
    "execution": {
     "iopub.execute_input": "2023-06-04T04:33:00.590537Z",
     "iopub.status.busy": "2023-06-04T04:33:00.589362Z",
     "iopub.status.idle": "2023-06-04T04:33:04.287239Z",
     "shell.execute_reply": "2023-06-04T04:33:04.286733Z",
     "shell.execute_reply.started": "2023-06-04T04:05:17.498754Z"
    },
    "papermill": {
     "duration": 6.193299,
     "end_time": "2023-06-04T04:33:04.287407",
     "exception": false,
     "start_time": "2023-06-04T04:32:58.094108",
     "status": "completed"
    },
    "tags": []
   },
   "outputs": [
    {
     "name": "stdout",
     "output_type": "stream",
     "text": [
      "(4515, 5)\n",
      "0    1319\n",
      "3    1181\n",
      "4     974\n",
      "1     534\n",
      "2     507\n",
      "dtype: int64\n"
     ]
    }
   ],
   "source": [
    "pred2=model.predict(testX)\n",
    "print(pred2.shape)\n",
    "\n",
    "PRED=[]\n",
    "for item in pred2:\n",
    "    value2=np.argmax(item)      \n",
    "    PRED+=[value2]\n",
    "print(pd.Series(PRED).value_counts())"
   ]
  },
  {
   "cell_type": "code",
   "execution_count": 24,
   "id": "d5898df3",
   "metadata": {
    "execution": {
     "iopub.execute_input": "2023-06-04T04:33:09.318289Z",
     "iopub.status.busy": "2023-06-04T04:33:09.315312Z",
     "iopub.status.idle": "2023-06-04T04:33:09.321592Z",
     "shell.execute_reply": "2023-06-04T04:33:09.322156Z",
     "shell.execute_reply.started": "2023-06-04T04:07:27.371037Z"
    },
    "papermill": {
     "duration": 2.45832,
     "end_time": "2023-06-04T04:33:09.322318",
     "exception": false,
     "start_time": "2023-06-04T04:33:06.863998",
     "status": "completed"
    },
    "tags": []
   },
   "outputs": [
    {
     "name": "stdout",
     "output_type": "stream",
     "text": [
      "0.3444075304540421\n"
     ]
    }
   ],
   "source": [
    "ANS=testY0\n",
    "accuracy=accuracy_score(ANS,PRED)\n",
    "print(accuracy)"
   ]
  },
  {
   "cell_type": "code",
   "execution_count": 25,
   "id": "b88af937",
   "metadata": {
    "execution": {
     "iopub.execute_input": "2023-06-04T04:33:14.334886Z",
     "iopub.status.busy": "2023-06-04T04:33:14.333935Z",
     "iopub.status.idle": "2023-06-04T04:33:14.335819Z",
     "shell.execute_reply": "2023-06-04T04:33:14.336314Z",
     "shell.execute_reply.started": "2023-06-04T04:07:29.716064Z"
    },
    "papermill": {
     "duration": 2.532073,
     "end_time": "2023-06-04T04:33:14.336481",
     "exception": false,
     "start_time": "2023-06-04T04:33:11.804408",
     "status": "completed"
    },
    "tags": []
   },
   "outputs": [],
   "source": [
    "m=len(testX)\n",
    "M=list(range(m))\n",
    "random.seed(2021)\n",
    "random.shuffle(M)"
   ]
  },
  {
   "cell_type": "code",
   "execution_count": 26,
   "id": "b014bba8",
   "metadata": {
    "execution": {
     "iopub.execute_input": "2023-06-04T04:33:19.881550Z",
     "iopub.status.busy": "2023-06-04T04:33:19.880604Z",
     "iopub.status.idle": "2023-06-04T04:33:20.410266Z",
     "shell.execute_reply": "2023-06-04T04:33:20.410763Z",
     "shell.execute_reply.started": "2023-06-04T04:07:31.985686Z"
    },
    "papermill": {
     "duration": 3.036239,
     "end_time": "2023-06-04T04:33:20.410928",
     "exception": false,
     "start_time": "2023-06-04T04:33:17.374689",
     "status": "completed"
    },
    "tags": []
   },
   "outputs": [
    {
     "data": {
      "image/png": "[encoded data removed]",
      "text/plain": [
       "<Figure size 864x864 with 9 Axes>"
      ]
     },
     "metadata": {
      "needs_background": "light"
     },
     "output_type": "display_data"
    }
   ],
   "source": [
    "fig, axs = plt.subplots(3,3,figsize=(12,12))\n",
    "for i in range(9):\n",
    "    r=i//3\n",
    "    c=i%3\n",
    "    img1 = testX[M[i]]\n",
    "    ax=axs[r][c].axis(\"off\")\n",
    "    actual=reverse_mapping[testY0[M[i]]]\n",
    "    predict=reverse_mapping[PRED[M[i]]]    \n",
    "    ax=axs[r][c].set_title(actual+'=='+predict)\n",
    "    ax=axs[r][c].imshow(cv2.cvtColor(img1, cv2.COLOR_BGR2RGB))\n",
    "plt.show()"
   ]
  },
  {
   "cell_type": "code",
   "execution_count": null,
   "id": "070123e2",
   "metadata": {
    "papermill": {
     "duration": 2.439687,
     "end_time": "2023-06-04T04:33:25.335945",
     "exception": false,
     "start_time": "2023-06-04T04:33:22.896258",
     "status": "completed"
    },
    "tags": []
   },
   "outputs": [],
   "source": []
  }
 ],
 "metadata": {
  "kernelspec": {
   "display_name": "Python 3",
   "language": "python",
   "name": "python3"
  },
  "language_info": {
   "codemirror_mode": {
    "name": "ipython",
    "version": 3
   },
   "file_extension": ".py",
   "mimetype": "text/x-python",
   "name": "python",
   "nbconvert_exporter": "python",
   "pygments_lexer": "ipython3",
   "version": "3.7.10"
  },
  "papermill": {
   "default_parameters": {},
   "duration": 764.598402,
   "end_time": "2023-06-04T04:33:31.545325",
   "environment_variables": {},
   "exception": null,
   "input_path": "__notebook__.ipynb",
   "output_path": "__notebook__.ipynb",
   "parameters": {},
   "start_time": "2023-06-04T04:20:46.946923",
   "version": "2.3.3"
  }
 },
 "nbformat": 4,
 "nbformat_minor": 5
}
